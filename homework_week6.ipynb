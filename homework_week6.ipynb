{
  "nbformat": 4,
  "nbformat_minor": 0,
  "metadata": {
    "colab": {
      "provenance": []
    },
    "kernelspec": {
      "name": "python3",
      "display_name": "Python 3"
    },
    "language_info": {
      "name": "python"
    }
  },
  "cells": [
    {
      "cell_type": "code",
      "execution_count": 1,
      "metadata": {
        "id": "WScfjcPXpgCn"
      },
      "outputs": [],
      "source": [
        "#Step1. Import the necessary libraries\n",
        "import numpy as np\n",
        "import pandas as pd"
      ]
    },
    {
      "cell_type": "code",
      "source": [
        "#Step2. Create a data dictionary that looks like the DataFrame below\n",
        "my_dict = {\n",
        "    0: {'name': 'Bulbasaur', 'hp': 45, 'evolution': 'Ivysaur', 'pokedex': 'yes', 'type': 'grass'},\n",
        "    1: {'name': 'Charmander', 'hp': 39, 'evolution': 'Charmeleon', 'pokedex': 'no', 'type': 'fire'},\n",
        "    2: {'name': 'Squirtle', 'hp': 44, 'evolution': 'Wartortle', 'pokedex': 'yes', 'type': 'water'},\n",
        "    3: {'name': 'Caterpie', 'hp': 45, 'evolution': 'Metapod', 'pokedex': 'no', 'type': 'bug'}\n",
        "}"
      ],
      "metadata": {
        "id": "u_LFMALbpkjh"
      },
      "execution_count": 2,
      "outputs": []
    },
    {
      "cell_type": "code",
      "source": [
        "#Step3. Assign it to a variable called pokemon\n",
        "pokemon = my_dict"
      ],
      "metadata": {
        "id": "ySup1db2pmpZ"
      },
      "execution_count": 3,
      "outputs": []
    },
    {
      "cell_type": "code",
      "source": [
        "#Step 4. Ops...it seems the DataFrame columns are in alphabetical order. Place the order of the columns as name, type, hp, evolution, pokedex\n",
        "\n",
        "new_pokemon = {}\n",
        "for key, value in pokemon.items():\n",
        "    new_pokemon[key] = {'name': value['name'], 'type': value['type'], 'hp': value['hp'], 'evolution': value['evolution'], 'pokedex': value['pokedex']}\n",
        "print(new_pokemon)\n"
      ],
      "metadata": {
        "colab": {
          "base_uri": "https://localhost:8080/"
        },
        "id": "jPnTRT_vpnWt",
        "outputId": "8d34c43a-cf2c-4f5b-9689-af4f592807e2"
      },
      "execution_count": 4,
      "outputs": [
        {
          "output_type": "stream",
          "name": "stdout",
          "text": [
            "{0: {'name': 'Bulbasaur', 'type': 'grass', 'hp': 45, 'evolution': 'Ivysaur', 'pokedex': 'yes'}, 1: {'name': 'Charmander', 'type': 'fire', 'hp': 39, 'evolution': 'Charmeleon', 'pokedex': 'no'}, 2: {'name': 'Squirtle', 'type': 'water', 'hp': 44, 'evolution': 'Wartortle', 'pokedex': 'yes'}, 3: {'name': 'Caterpie', 'type': 'bug', 'hp': 45, 'evolution': 'Metapod', 'pokedex': 'no'}}\n"
          ]
        }
      ]
    },
    {
      "cell_type": "code",
      "source": [
        "#Step 5. Add another column called place, and insert what you have mind\n",
        "new_pokemon[0]['place'] = \"Ocean\"\n",
        "new_pokemon[1]['place'] = \"Moutain\"\n",
        "new_pokemon[2]['place'] = \"Forest\"\n",
        "new_pokemon[3]['place'] = \"River\"\n",
        "print(new_pokemon)"
      ],
      "metadata": {
        "colab": {
          "base_uri": "https://localhost:8080/"
        },
        "id": "wbPRCvsCpopX",
        "outputId": "a6b5245b-353d-4294-891a-25fc02d0ad1a"
      },
      "execution_count": 5,
      "outputs": [
        {
          "output_type": "stream",
          "name": "stdout",
          "text": [
            "{0: {'name': 'Bulbasaur', 'type': 'grass', 'hp': 45, 'evolution': 'Ivysaur', 'pokedex': 'yes', 'place': 'Ocean'}, 1: {'name': 'Charmander', 'type': 'fire', 'hp': 39, 'evolution': 'Charmeleon', 'pokedex': 'no', 'place': 'Moutain'}, 2: {'name': 'Squirtle', 'type': 'water', 'hp': 44, 'evolution': 'Wartortle', 'pokedex': 'yes', 'place': 'Forest'}, 3: {'name': 'Caterpie', 'type': 'bug', 'hp': 45, 'evolution': 'Metapod', 'pokedex': 'no', 'place': 'River'}}\n"
          ]
        }
      ]
    },
    {
      "cell_type": "code",
      "source": [
        "#Step 6. Present the type of each column\n",
        "df = pd.DataFrame.from_dict(pokemon, orient='index')\n",
        "print(df.dtypes)"
      ],
      "metadata": {
        "colab": {
          "base_uri": "https://localhost:8080/"
        },
        "id": "2RB_XNkypsAa",
        "outputId": "a54bb0aa-fb1a-4cc6-a1a7-198afd40d40d"
      },
      "execution_count": 6,
      "outputs": [
        {
          "output_type": "stream",
          "name": "stdout",
          "text": [
            "name         object\n",
            "hp            int64\n",
            "evolution    object\n",
            "pokedex      object\n",
            "type         object\n",
            "dtype: object\n"
          ]
        }
      ]
    }
  ]
}